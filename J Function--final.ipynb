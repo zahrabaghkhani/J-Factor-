{
 "cells": [
  {
   "cell_type": "code",
   "execution_count": 1,
   "metadata": {},
   "outputs": [],
   "source": [
    "import numpy as np\n",
    "import pandas as pd \n",
    "import matplotlib.pyplot as plt"
   ]
  },
  {
   "cell_type": "code",
   "execution_count": 2,
   "metadata": {},
   "outputs": [],
   "source": [
    "data = pd.read_csv('z0m5e11.csv')"
   ]
  },
  {
   "cell_type": "code",
   "execution_count": null,
   "metadata": {},
   "outputs": [],
   "source": []
  },
  {
   "cell_type": "code",
   "execution_count": 3,
   "metadata": {},
   "outputs": [],
   "source": [
    "data['log_mass']=np.log10(data['mass'])\n",
    "\n"
   ]
  },
  {
   "cell_type": "code",
   "execution_count": 4,
   "metadata": {},
   "outputs": [
    {
     "data": {
      "text/plain": [
       "15.341175255507784"
      ]
     },
     "execution_count": 4,
     "metadata": {},
     "output_type": "execute_result"
    }
   ],
   "source": [
    "np.amax(data['log_mass'].values)"
   ]
  },
  {
   "cell_type": "code",
   "execution_count": 5,
   "metadata": {},
   "outputs": [],
   "source": [
    "data0 = data[(data['log_mass']>11.7)&(data['log_mass']<11.7493)]"
   ]
  },
  {
   "cell_type": "code",
   "execution_count": 6,
   "metadata": {},
   "outputs": [],
   "source": [
    "data05=data[(data['log_mass']>12)&(data['log_mass']<12.0943)]"
   ]
  },
  {
   "cell_type": "code",
   "execution_count": 7,
   "metadata": {},
   "outputs": [],
   "source": [
    "data1=data[(data['log_mass']>12.3698)&(data['log_mass']<12.6)]"
   ]
  },
  {
   "cell_type": "code",
   "execution_count": 8,
   "metadata": {},
   "outputs": [],
   "source": [
    "data2=data[(data['log_mass']>12.7993)&(data['log_mass']<14.7)]"
   ]
  },
  {
   "cell_type": "code",
   "execution_count": 9,
   "metadata": {},
   "outputs": [
    {
     "data": {
      "text/plain": [
       "46742"
      ]
     },
     "execution_count": 9,
     "metadata": {},
     "output_type": "execute_result"
    }
   ],
   "source": [
    "len(data0)"
   ]
  },
  {
   "cell_type": "code",
   "execution_count": 10,
   "metadata": {},
   "outputs": [],
   "source": [
    "xyz0 = data0[['x','y','z']].values\n",
    "xyz05 = data05[['x','y','z']].values\n",
    "xyz1 = data1[['x','y','z']].values\n",
    "xyz2 = data2[['x','y','z']].values"
   ]
  },
  {
   "cell_type": "markdown",
   "metadata": {},
   "source": [
    "# J function"
   ]
  },
  {
   "cell_type": "code",
   "execution_count": 11,
   "metadata": {},
   "outputs": [],
   "source": [
    "data0_1 = data0[(data0['x']<200)&(data0['y']<200)&(data0['z']<200)]\n",
    "data0_2 = data0[(data0['x']<200)&(data0['y']<200)&(data0['z']>200)]\n",
    "data0_3 = data0[(data0['x']<200)&(data0['y']>200)&(data0['z']<200)]\n",
    "data0_4 = data0[(data0['x']>200)&(data0['y']<200)&(data0['z']<200)]\n",
    "data0_5 = data0[(data0['x']>200)&(data0['y']>200)&(data0['z']<200)]\n",
    "data0_6 = data0[(data0['x']>200)&(data0['y']<200)&(data0['z']>200)]\n",
    "data0_7 = data0[(data0['x']<200)&(data0['y']>200)&(data0['z']>200)]\n",
    "data0_8 = data0[(data0['x']>200)&(data0['y']>200)&(data0['z']>200)]"
   ]
  },
  {
   "cell_type": "code",
   "execution_count": 12,
   "metadata": {},
   "outputs": [],
   "source": [
    "xyz0_1 = data0_1[['x','y','z']].values\n",
    "xyz0_2 = data0_2[['x','y','z']].values\n",
    "xyz0_3 = data0_3[['x','y','z']].values\n",
    "xyz0_4 = data0_4[['x','y','z']].values\n",
    "xyz0_5 = data0_5[['x','y','z']].values\n",
    "xyz0_6 = data0_6[['x','y','z']].values\n",
    "xyz0_7 = data0_7[['x','y','z']].values\n",
    "xyz0_8 = data0_8[['x','y','z']].values"
   ]
  },
  {
   "cell_type": "code",
   "execution_count": 13,
   "metadata": {},
   "outputs": [
    {
     "name": "stdout",
     "output_type": "stream",
     "text": [
      "Wall time: 1.53 s\n"
     ]
    }
   ],
   "source": [
    "%%time\n",
    "xr = np.random.uniform(np.amin(xyz0_1[:,0]),np.amax(xyz0_1[:,0]),len(xyz0_1))\n",
    "yr = np.random.uniform(np.amin(xyz0_1[:,1]),np.amax(xyz0_1[:,1]),len(xyz0_1))\n",
    "zr = np.random.uniform(np.amin(xyz0_1[:,2]),np.amax(xyz0_1[:,2]),len(xyz0_1))\n",
    "xyz_r = np.vstack((xr,yr,zr)).T\n",
    "min0_1 = np.zeros(len(xyz0_1))\n",
    "minr0_1 = np.zeros(len(xyz0_1))\n",
    "for index,pos in enumerate(xyz0_1):\n",
    "    dist = np.sqrt(np.sum((pos-xyz0_1)**2,axis=1))\n",
    "    min0_1[index] = np.amin(dist[dist!=0])\n",
    "    \n",
    "for index,pos in enumerate(xyz_r):\n",
    "    dist = np.sqrt(np.sum((pos-xyz0_1)**2,axis=1))\n",
    "    minr0_1[index] = np.amin(dist)\n",
    "   \n",
    "        "
   ]
  },
  {
   "cell_type": "code",
   "execution_count": 14,
   "metadata": {},
   "outputs": [
    {
     "name": "stdout",
     "output_type": "stream",
     "text": [
      "Wall time: 1.45 s\n"
     ]
    }
   ],
   "source": [
    "%%time\n",
    "xr = np.random.uniform(np.amin(xyz0_2[:,0]),np.amax(xyz0_2[:,0]),len(xyz0_2))\n",
    "yr = np.random.uniform(np.amin(xyz0_2[:,1]),np.amax(xyz0_2[:,1]),len(xyz0_2))\n",
    "zr = np.random.uniform(np.amin(xyz0_2[:,2]),np.amax(xyz0_2[:,2]),len(xyz0_2))\n",
    "xyz_r = np.vstack((xr,yr,zr)).T\n",
    "min0_2 = np.zeros(len(xyz0_2))\n",
    "minr0_2 = np.zeros(len(xyz0_2))\n",
    "for index,pos in enumerate(xyz0_2):\n",
    "    dist = np.sqrt(np.sum((pos-xyz0_2)**2,axis=1))\n",
    "    min0_2[index] = np.amin(dist[dist!=0])\n",
    "    \n",
    "for index,pos in enumerate(xyz_r):\n",
    "    dist = np.sqrt(np.sum((pos-xyz0_2)**2,axis=1))\n",
    "    minr0_2[index] = np.amin(dist)\n",
    "   \n",
    "        "
   ]
  },
  {
   "cell_type": "code",
   "execution_count": 15,
   "metadata": {},
   "outputs": [
    {
     "name": "stdout",
     "output_type": "stream",
     "text": [
      "Wall time: 1.3 s\n"
     ]
    }
   ],
   "source": [
    "%%time\n",
    "xr = np.random.uniform(np.amin(xyz0_3[:,0]),np.amax(xyz0_3[:,0]),len(xyz0_3))\n",
    "yr = np.random.uniform(np.amin(xyz0_3[:,1]),np.amax(xyz0_3[:,1]),len(xyz0_3))\n",
    "zr = np.random.uniform(np.amin(xyz0_3[:,2]),np.amax(xyz0_3[:,2]),len(xyz0_3))\n",
    "xyz_r = np.vstack((xr,yr,zr)).T\n",
    "min0_3 = np.zeros(len(xyz0_3))\n",
    "minr0_3 = np.zeros(len(xyz0_3))\n",
    "for index,pos in enumerate(xyz0_3):\n",
    "    dist = np.sqrt(np.sum((pos-xyz0_3)**2,axis=1))\n",
    "    min0_3[index] = np.amin(dist[dist!=0])\n",
    "    \n",
    "for index,pos in enumerate(xyz_r):\n",
    "    dist = np.sqrt(np.sum((pos-xyz0_3)**2,axis=1))\n",
    "    minr0_3[index] = np.amin(dist)\n",
    "   \n",
    "        "
   ]
  },
  {
   "cell_type": "code",
   "execution_count": 16,
   "metadata": {},
   "outputs": [
    {
     "name": "stdout",
     "output_type": "stream",
     "text": [
      "Wall time: 1.41 s\n"
     ]
    }
   ],
   "source": [
    "%%time\n",
    "xr = np.random.uniform(np.amin(xyz0_4[:,0]),np.amax(xyz0_4[:,0]),len(xyz0_4))\n",
    "yr = np.random.uniform(np.amin(xyz0_4[:,1]),np.amax(xyz0_4[:,1]),len(xyz0_4))\n",
    "zr = np.random.uniform(np.amin(xyz0_4[:,2]),np.amax(xyz0_4[:,2]),len(xyz0_4))\n",
    "xyz_r = np.vstack((xr,yr,zr)).T\n",
    "min0_4 = np.zeros(len(xyz0_4))\n",
    "minr0_4 = np.zeros(len(xyz0_4))\n",
    "for index,pos in enumerate(xyz0_4):\n",
    "    dist = np.sqrt(np.sum((pos-xyz0_4)**2,axis=1))\n",
    "    min0_4[index] = np.amin(dist[dist!=0])\n",
    "    \n",
    "for index,pos in enumerate(xyz_r):\n",
    "    dist = np.sqrt(np.sum((pos-xyz0_4)**2,axis=1))\n",
    "    minr0_4[index] = np.amin(dist)\n",
    "   \n",
    "        "
   ]
  },
  {
   "cell_type": "code",
   "execution_count": 17,
   "metadata": {},
   "outputs": [
    {
     "name": "stdout",
     "output_type": "stream",
     "text": [
      "Wall time: 1.47 s\n"
     ]
    }
   ],
   "source": [
    "%%time\n",
    "xr = np.random.uniform(np.amin(xyz0_5[:,0]),np.amax(xyz0_5[:,0]),len(xyz0_5))\n",
    "yr = np.random.uniform(np.amin(xyz0_5[:,1]),np.amax(xyz0_5[:,1]),len(xyz0_5))\n",
    "zr = np.random.uniform(np.amin(xyz0_5[:,2]),np.amax(xyz0_5[:,2]),len(xyz0_5))\n",
    "xyz_r = np.vstack((xr,yr,zr)).T\n",
    "min0_5 = np.zeros(len(xyz0_5))\n",
    "minr0_5 = np.zeros(len(xyz0_5))\n",
    "for index,pos in enumerate(xyz0_5):\n",
    "    dist = np.sqrt(np.sum((pos-xyz0_5)**2,axis=1))\n",
    "    min0_5[index] = np.amin(dist[dist!=0])\n",
    "    \n",
    "for index,pos in enumerate(xyz_r):\n",
    "    dist = np.sqrt(np.sum((pos-xyz0_5)**2,axis=1))\n",
    "    minr0_5[index] = np.amin(dist)\n",
    "   \n",
    "        "
   ]
  },
  {
   "cell_type": "code",
   "execution_count": 18,
   "metadata": {},
   "outputs": [
    {
     "name": "stdout",
     "output_type": "stream",
     "text": [
      "Wall time: 1.41 s\n"
     ]
    }
   ],
   "source": [
    "%%time\n",
    "xr = np.random.uniform(np.amin(xyz0_6[:,0]),np.amax(xyz0_6[:,0]),len(xyz0_6))\n",
    "yr = np.random.uniform(np.amin(xyz0_6[:,1]),np.amax(xyz0_6[:,1]),len(xyz0_6))\n",
    "zr = np.random.uniform(np.amin(xyz0_6[:,2]),np.amax(xyz0_6[:,2]),len(xyz0_6))\n",
    "xyz_r = np.vstack((xr,yr,zr)).T\n",
    "min0_6 = np.zeros(len(xyz0_6))\n",
    "minr0_6 = np.zeros(len(xyz0_6))\n",
    "for index,pos in enumerate(xyz0_6):\n",
    "    dist = np.sqrt(np.sum((pos-xyz0_6)**2,axis=1))\n",
    "    min0_6[index] = np.amin(dist[dist!=0])\n",
    "    \n",
    "for index,pos in enumerate(xyz_r):\n",
    "    dist = np.sqrt(np.sum((pos-xyz0_6)**2,axis=1))\n",
    "    minr0_6[index] = np.amin(dist)\n",
    "   \n",
    "        "
   ]
  },
  {
   "cell_type": "code",
   "execution_count": 19,
   "metadata": {},
   "outputs": [
    {
     "name": "stdout",
     "output_type": "stream",
     "text": [
      "Wall time: 1.59 s\n"
     ]
    }
   ],
   "source": [
    "%%time\n",
    "xr = np.random.uniform(np.amin(xyz0_7[:,0]),np.amax(xyz0_7[:,0]),len(xyz0_7))\n",
    "yr = np.random.uniform(np.amin(xyz0_7[:,1]),np.amax(xyz0_7[:,1]),len(xyz0_7))\n",
    "zr = np.random.uniform(np.amin(xyz0_7[:,2]),np.amax(xyz0_7[:,2]),len(xyz0_7))\n",
    "xyz_r = np.vstack((xr,yr,zr)).T\n",
    "min0_7 = np.zeros(len(xyz0_7))\n",
    "minr0_7 = np.zeros(len(xyz0_7))\n",
    "for index,pos in enumerate(xyz0_7):\n",
    "    dist = np.sqrt(np.sum((pos-xyz0_7)**2,axis=1))\n",
    "    min0_7[index] = np.amin(dist[dist!=0])\n",
    "    \n",
    "for index,pos in enumerate(xyz_r):\n",
    "    dist = np.sqrt(np.sum((pos-xyz0_7)**2,axis=1))\n",
    "    minr0_7[index] = np.amin(dist)\n",
    "   \n",
    "        "
   ]
  },
  {
   "cell_type": "code",
   "execution_count": 20,
   "metadata": {},
   "outputs": [
    {
     "name": "stdout",
     "output_type": "stream",
     "text": [
      "Wall time: 1.42 s\n"
     ]
    }
   ],
   "source": [
    "%%time\n",
    "xr = np.random.uniform(np.amin(xyz0_8[:,0]),np.amax(xyz0_8[:,0]),len(xyz0_8))\n",
    "yr = np.random.uniform(np.amin(xyz0_8[:,1]),np.amax(xyz0_8[:,1]),len(xyz0_8))\n",
    "zr = np.random.uniform(np.amin(xyz0_8[:,2]),np.amax(xyz0_8[:,2]),len(xyz0_8))\n",
    "xyz_r = np.vstack((xr,yr,zr)).T\n",
    "min0_8 = np.zeros(len(xyz0_8))\n",
    "minr0_8 = np.zeros(len(xyz0_8))\n",
    "for index,pos in enumerate(xyz0_8):\n",
    "    dist = np.sqrt(np.sum((pos-xyz0_8)**2,axis=1))\n",
    "    min0_8[index] = np.amin(dist[dist!=0])\n",
    "    \n",
    "for index,pos in enumerate(xyz_r):\n",
    "    dist = np.sqrt(np.sum((pos-xyz0_8)**2,axis=1))\n",
    "    minr0_8[index] = np.amin(dist)\n",
    "   \n",
    "        "
   ]
  },
  {
   "cell_type": "code",
   "execution_count": 21,
   "metadata": {},
   "outputs": [
    {
     "data": {
      "image/png": "[encoded data removed]",
      "text/plain": [
       "<Figure size 432x288 with 1 Axes>"
      ]
     },
     "metadata": {
      "needs_background": "light"
     },
     "output_type": "display_data"
    }
   ],
   "source": [
    "g0_1,bins,_ = plt.hist(min0_1,100,density=True,cumulative = True,range=(0,20))\n",
    "g0_2,bins,_  = plt.hist(min0_2,100,density=True,cumulative = True,range=(0,20))\n",
    "g0_3,bins,_  = plt.hist(min0_3,100,density=True,cumulative = True,range=(0,20))\n",
    "g0_4,bins,_  = plt.hist(min0_4,100,density=True,cumulative = True,range=(0,20))\n",
    "g0_5,bins,_  = plt.hist(min0_5,100,density=True,cumulative = True,range=(0,20))\n",
    "g0_6,bins,_  = plt.hist(min0_6,100,density=True,cumulative = True,range=(0,20))\n",
    "g0_7,bins,_  = plt.hist(min0_7,100,density=True,cumulative = True,range=(0,20))\n",
    "g0_8,bins,_  = plt.hist(min0_8,100,density=True,cumulative = True,range=(0,20))"
   ]
  },
  {
   "cell_type": "code",
   "execution_count": 22,
   "metadata": {},
   "outputs": [
    {
     "data": {
      "image/png": "[encoded data removed]",
      "text/plain": [
       "<Figure size 432x288 with 1 Axes>"
      ]
     },
     "metadata": {
      "needs_background": "light"
     },
     "output_type": "display_data"
    }
   ],
   "source": [
    "f0_1,bins,_ = plt.hist(minr0_1,100,density=True,cumulative = True,range=(0,20))\n",
    "f0_2,bins,_  = plt.hist(minr0_2,100,density=True,cumulative = True,range=(0,20))\n",
    "f0_3,bins,_  = plt.hist(minr0_3,100,density=True,cumulative = True,range=(0,20))\n",
    "f0_4,bins,_  = plt.hist(minr0_4,100,density=True,cumulative = True,range=(0,20))\n",
    "f0_5,bins,_  = plt.hist(minr0_5,100,density=True,cumulative = True,range=(0,20))\n",
    "f0_6,bins,_  = plt.hist(minr0_6,100,density=True,cumulative = True,range=(0,20))\n",
    "f0_7,bins,_  = plt.hist(minr0_7,100,density=True,cumulative = True,range=(0,20))\n",
    "f0_8,bins,_  = plt.hist(minr0_8,100,density=True,cumulative = True,range=(0,20))"
   ]
  },
  {
   "cell_type": "code",
   "execution_count": 23,
   "metadata": {},
   "outputs": [
    {
     "name": "stderr",
     "output_type": "stream",
     "text": [
      "C:\\Users\\zahra\\Anaconda3\\lib\\site-packages\\ipykernel_launcher.py:1: RuntimeWarning: divide by zero encountered in true_divide\n",
      "  \"\"\"Entry point for launching an IPython kernel.\n"
     ]
    }
   ],
   "source": [
    "j0_1 = (np.ones(100)-g0_1)/(np.ones(100)-f0_1)\n",
    "j0_2 = (np.ones(100)-g0_2)/(np.ones(100)-f0_2)\n",
    "j0_3 = (np.ones(100)-g0_3)/(np.ones(100)-f0_3)\n",
    "j0_4 = (np.ones(100)-g0_4)/(np.ones(100)-f0_4)\n",
    "j0_5 = (np.ones(100)-g0_5)/(np.ones(100)-f0_5)\n",
    "j0_6 = (np.ones(100)-g0_6)/(np.ones(100)-f0_6)\n",
    "j0_7 = (np.ones(100)-g0_7)/(np.ones(100)-f0_7)\n",
    "j0_8 = (np.ones(100)-g0_8)/(np.ones(100)-f0_8)"
   ]
  },
  {
   "cell_type": "code",
   "execution_count": 24,
   "metadata": {},
   "outputs": [
    {
     "name": "stderr",
     "output_type": "stream",
     "text": [
      "C:\\Users\\zahra\\Anaconda3\\lib\\site-packages\\numpy\\core\\_methods.py:117: RuntimeWarning: invalid value encountered in subtract\n",
      "  x = asanyarray(arr - arrmean)\n"
     ]
    }
   ],
   "source": [
    "j_mean_0 = np.mean((j0_1,j0_2,j0_3,j0_4,j0_5,j0_6,j0_7,j0_8),axis = 0)\n",
    "j_std_0 = np.std((j0_1,j0_2,j0_3,j0_4,j0_5,j0_6,j0_7,j0_8),axis = 0)"
   ]
  },
  {
   "cell_type": "code",
   "execution_count": 25,
   "metadata": {},
   "outputs": [],
   "source": [
    "bincenters = 0.5*(bins[1:]+bins[:-1])"
   ]
  },
  {
   "cell_type": "code",
   "execution_count": 26,
   "metadata": {},
   "outputs": [
    {
     "data": {
      "text/plain": [
       "array([1.00004307, 0.99955602, 0.99538109, 0.98913953, 0.9813436 ,\n",
       "       0.97383059, 0.96278347, 0.95206106, 0.93903643, 0.92813411,\n",
       "       0.9145846 , 0.90035318, 0.88830043, 0.87262364, 0.86020786,\n",
       "       0.84533853, 0.83223498, 0.81717584, 0.80250977, 0.78652076,\n",
       "       0.77233248, 0.75883573, 0.74526756, 0.73022163, 0.71772918,\n",
       "       0.70513763, 0.69218273, 0.6765782 , 0.66153633, 0.65283514,\n",
       "       0.64002009, 0.62768499, 0.61162964, 0.5943554 , 0.5817566 ,\n",
       "       0.57232234, 0.56509273, 0.55495242, 0.54233102, 0.53136666,\n",
       "       0.52332432, 0.50971125, 0.49833211, 0.48776567, 0.48127763,\n",
       "       0.47078586, 0.46256255, 0.45585103, 0.44954465, 0.44247061,\n",
       "       0.43289694, 0.41970833, 0.41106703, 0.40175824, 0.39313463,\n",
       "       0.38911288, 0.37560974, 0.3709817 , 0.36600039, 0.35532266,\n",
       "       0.34689288, 0.34617793, 0.34478425, 0.33889489, 0.32841211,\n",
       "       0.32405963, 0.3319642 , 0.33711519, 0.33453556, 0.33166162,\n",
       "       0.32856264, 0.32109407, 0.30999729, 0.30677876, 0.3114656 ,\n",
       "       0.32387286, 0.35436215, 0.35889675, 0.38290799, 0.4218576 ,\n",
       "       0.43202959, 0.40823018, 0.43047002, 0.43434939, 0.51558749,\n",
       "       0.44268   , 0.52602724, 0.46248624,        inf,        inf,\n",
       "              inf,        inf,        inf,        inf,        inf,\n",
       "              inf,        inf,        inf,        inf,        inf])"
      ]
     },
     "execution_count": 26,
     "metadata": {},
     "output_type": "execute_result"
    }
   ],
   "source": [
    "j_mean_0"
   ]
  },
  {
   "cell_type": "code",
   "execution_count": 27,
   "metadata": {},
   "outputs": [
    {
     "data": {
      "text/plain": [
       "array([1.00004307, 0.99955602, 0.99538109, 0.98913953, 0.9813436 ,\n",
       "       0.97383059, 0.96278347, 0.95206106, 0.93903643, 0.92813411,\n",
       "       0.9145846 , 0.90035318, 0.88830043, 0.87262364, 0.86020786,\n",
       "       0.84533853, 0.83223498, 0.81717584, 0.80250977, 0.78652076,\n",
       "       0.77233248, 0.75883573, 0.74526756, 0.73022163, 0.71772918,\n",
       "       0.70513763, 0.69218273, 0.6765782 , 0.66153633, 0.65283514,\n",
       "       0.64002009, 0.62768499, 0.61162964, 0.5943554 , 0.5817566 ,\n",
       "       0.57232234, 0.56509273, 0.55495242, 0.54233102, 0.53136666,\n",
       "       0.52332432, 0.50971125, 0.49833211, 0.48776567, 0.48127763,\n",
       "       0.47078586, 0.46256255, 0.45585103, 0.44954465, 0.44247061,\n",
       "       0.43289694, 0.41970833, 0.41106703, 0.40175824, 0.39313463,\n",
       "       0.38911288, 0.37560974, 0.3709817 , 0.36600039, 0.35532266,\n",
       "       0.34689288, 0.34617793, 0.34478425, 0.33889489, 0.32841211,\n",
       "       0.32405963, 0.3319642 , 0.33711519, 0.33453556, 0.33166162,\n",
       "       0.32856264, 0.32109407, 0.30999729, 0.30677876, 0.3114656 ,\n",
       "       0.32387286, 0.35436215, 0.35889675, 0.38290799, 0.4218576 ,\n",
       "       0.43202959, 0.40823018, 0.43047002, 0.43434939, 0.51558749,\n",
       "       0.44268   , 0.52602724, 0.46248624,        inf,        inf,\n",
       "              inf,        inf,        inf,        inf,        inf,\n",
       "              inf,        inf,        inf,        inf,        inf])"
      ]
     },
     "execution_count": 27,
     "metadata": {},
     "output_type": "execute_result"
    }
   ],
   "source": [
    "j_mean_0"
   ]
  },
  {
   "cell_type": "code",
   "execution_count": 28,
   "metadata": {},
   "outputs": [
    {
     "data": {
      "text/plain": [
       "(0, 1.25)"
      ]
     },
     "execution_count": 28,
     "metadata": {},
     "output_type": "execute_result"
    },
    {
     "data": {
      "image/png": "[encoded data removed]",
      "text/plain": [
       "<Figure size 432x288 with 1 Axes>"
      ]
     },
     "metadata": {
      "needs_background": "light"
     },
     "output_type": "display_data"
    }
   ],
   "source": [
    "plt.plot(bincenters,j_mean_0)\n",
    "plt.fill_between(bincenters,j_mean_0-j_std_0,j_mean_0+j_std_0)\n",
    "plt.xlim(0,12)\n",
    "plt.ylim(0,1.25)"
   ]
  },
  {
   "cell_type": "code",
   "execution_count": 29,
   "metadata": {},
   "outputs": [
    {
     "data": {
      "text/plain": [
       "(0, 1.25)"
      ]
     },
     "execution_count": 29,
     "metadata": {},
     "output_type": "execute_result"
    },
    {
     "data": {
      "image/png": "[encoded data removed]",
      "text/plain": [
       "<Figure size 432x288 with 1 Axes>"
      ]
     },
     "metadata": {
      "needs_background": "light"
     },
     "output_type": "display_data"
    }
   ],
   "source": [
    "plt.plot(bincenters,j_mean_0)\n",
    "plt.fill_between(bincenters,j_mean_0-j_std_0,j_mean_0+j_std_0)\n",
    "plt.xlim(0,12)\n",
    "plt.ylim(0,1.25)"
   ]
  },
  {
   "cell_type": "code",
   "execution_count": 30,
   "metadata": {},
   "outputs": [
    {
     "data": {
      "text/plain": [
       "array([1.00004307, 0.99955602, 0.99538109, 0.98913953, 0.9813436 ,\n",
       "       0.97383059, 0.96278347, 0.95206106, 0.93903643, 0.92813411,\n",
       "       0.9145846 , 0.90035318, 0.88830043, 0.87262364, 0.86020786,\n",
       "       0.84533853, 0.83223498, 0.81717584, 0.80250977, 0.78652076,\n",
       "       0.77233248, 0.75883573, 0.74526756, 0.73022163, 0.71772918,\n",
       "       0.70513763, 0.69218273, 0.6765782 , 0.66153633, 0.65283514,\n",
       "       0.64002009, 0.62768499, 0.61162964, 0.5943554 , 0.5817566 ,\n",
       "       0.57232234, 0.56509273, 0.55495242, 0.54233102, 0.53136666,\n",
       "       0.52332432, 0.50971125, 0.49833211, 0.48776567, 0.48127763,\n",
       "       0.47078586, 0.46256255, 0.45585103, 0.44954465, 0.44247061,\n",
       "       0.43289694, 0.41970833, 0.41106703, 0.40175824, 0.39313463,\n",
       "       0.38911288, 0.37560974, 0.3709817 , 0.36600039, 0.35532266,\n",
       "       0.34689288, 0.34617793, 0.34478425, 0.33889489, 0.32841211,\n",
       "       0.32405963, 0.3319642 , 0.33711519, 0.33453556, 0.33166162,\n",
       "       0.32856264, 0.32109407, 0.30999729, 0.30677876, 0.3114656 ,\n",
       "       0.32387286, 0.35436215, 0.35889675, 0.38290799, 0.4218576 ,\n",
       "       0.43202959, 0.40823018, 0.43047002, 0.43434939, 0.51558749,\n",
       "       0.44268   , 0.52602724, 0.46248624,        inf,        inf,\n",
       "              inf,        inf,        inf,        inf,        inf,\n",
       "              inf,        inf,        inf,        inf,        inf])"
      ]
     },
     "execution_count": 30,
     "metadata": {},
     "output_type": "execute_result"
    }
   ],
   "source": [
    "j_mean_0"
   ]
  },
  {
   "cell_type": "code",
   "execution_count": 31,
   "metadata": {},
   "outputs": [],
   "source": [
    "data05_1 = data05[(data05['x']<200)&(data05['y']<200)&(data05['z']<200)]\n",
    "data05_2 = data05[(data05['x']<200)&(data05['y']<200)&(data05['z']>200)]\n",
    "data05_3 = data05[(data05['x']<200)&(data05['y']>200)&(data05['z']<200)]\n",
    "data05_4 = data05[(data05['x']>200)&(data05['y']<200)&(data05['z']<200)]\n",
    "data05_5 = data05[(data05['x']>200)&(data05['y']>200)&(data05['z']<200)]\n",
    "data05_6 = data05[(data05['x']>200)&(data05['y']<200)&(data05['z']>200)]\n",
    "data05_7 = data05[(data05['x']<200)&(data05['y']>200)&(data05['z']>200)]\n",
    "data05_8 = data05[(data05['x']>200)&(data05['y']>200)&(data05['z']>200)]"
   ]
  },
  {
   "cell_type": "code",
   "execution_count": 32,
   "metadata": {},
   "outputs": [],
   "source": [
    "xyz05_1 = data05_1[['x','y','z']].values\n",
    "xyz05_2 = data05_2[['x','y','z']].values\n",
    "xyz05_3 = data05_3[['x','y','z']].values\n",
    "xyz05_4 = data05_4[['x','y','z']].values\n",
    "xyz05_5 = data05_5[['x','y','z']].values\n",
    "xyz05_6 = data05_6[['x','y','z']].values\n",
    "xyz05_7 = data05_7[['x','y','z']].values\n",
    "xyz05_8 = data05_8[['x','y','z']].values"
   ]
  },
  {
   "cell_type": "code",
   "execution_count": 33,
   "metadata": {},
   "outputs": [
    {
     "name": "stdout",
     "output_type": "stream",
     "text": [
      "Wall time: 1.36 s\n"
     ]
    }
   ],
   "source": [
    "%%time\n",
    "xr = np.random.uniform(np.amin(xyz05_1[:,0]),np.amax(xyz05_1[:,0]),len(xyz05_1))\n",
    "yr = np.random.uniform(np.amin(xyz05_1[:,1]),np.amax(xyz05_1[:,1]),len(xyz05_1))\n",
    "zr = np.random.uniform(np.amin(xyz05_1[:,2]),np.amax(xyz05_1[:,2]),len(xyz05_1))\n",
    "xyz_r = np.vstack((xr,yr,zr)).T\n",
    "min05_1 = np.zeros(len(xyz05_1))\n",
    "minr05_1 = np.zeros(len(xyz05_1))\n",
    "for index,pos in enumerate(xyz05_1):\n",
    "    dist = np.sqrt(np.sum((pos-xyz05_1)**2,axis=1))\n",
    "    min05_1[index] = np.amin(dist[dist!=0])\n",
    "    \n",
    "for index,pos in enumerate(xyz_r):\n",
    "    dist = np.sqrt(np.sum((pos-xyz05_1)**2,axis=1))\n",
    "    minr05_1[index] = np.amin(dist)\n",
    "   \n",
    "        "
   ]
  },
  {
   "cell_type": "code",
   "execution_count": 34,
   "metadata": {},
   "outputs": [
    {
     "name": "stdout",
     "output_type": "stream",
     "text": [
      "Wall time: 1.62 s\n"
     ]
    }
   ],
   "source": [
    "%%time\n",
    "xr = np.random.uniform(np.amin(xyz05_2[:,0]),np.amax(xyz05_2[:,0]),len(xyz05_2))\n",
    "yr = np.random.uniform(np.amin(xyz05_2[:,1]),np.amax(xyz05_2[:,1]),len(xyz05_2))\n",
    "zr = np.random.uniform(np.amin(xyz05_2[:,2]),np.amax(xyz05_2[:,2]),len(xyz05_2))\n",
    "xyz_r = np.vstack((xr,yr,zr)).T\n",
    "min05_2 = np.zeros(len(xyz05_2))\n",
    "minr05_2 = np.zeros(len(xyz05_2))\n",
    "for index,pos in enumerate(xyz05_2):\n",
    "    dist = np.sqrt(np.sum((pos-xyz05_2)**2,axis=1))\n",
    "    min05_2[index] = np.amin(dist[dist!=0])\n",
    "    \n",
    "for index,pos in enumerate(xyz_r):\n",
    "    dist = np.sqrt(np.sum((pos-xyz05_2)**2,axis=1))\n",
    "    minr05_2[index] = np.amin(dist)\n",
    "   \n",
    "        "
   ]
  },
  {
   "cell_type": "code",
   "execution_count": 35,
   "metadata": {},
   "outputs": [
    {
     "name": "stdout",
     "output_type": "stream",
     "text": [
      "Wall time: 1.4 s\n"
     ]
    }
   ],
   "source": [
    "%%time\n",
    "xr = np.random.uniform(np.amin(xyz05_3[:,0]),np.amax(xyz05_3[:,0]),len(xyz05_3))\n",
    "yr = np.random.uniform(np.amin(xyz05_3[:,1]),np.amax(xyz05_3[:,1]),len(xyz05_3))\n",
    "zr = np.random.uniform(np.amin(xyz05_3[:,2]),np.amax(xyz05_3[:,2]),len(xyz05_3))\n",
    "xyz_r = np.vstack((xr,yr,zr)).T\n",
    "min05_3 = np.zeros(len(xyz05_3))\n",
    "minr05_3 = np.zeros(len(xyz05_3))\n",
    "for index,pos in enumerate(xyz05_3):\n",
    "    dist = np.sqrt(np.sum((pos-xyz05_3)**2,axis=1))\n",
    "    min05_3[index] = np.amin(dist[dist!=0])\n",
    "    \n",
    "for index,pos in enumerate(xyz_r):\n",
    "    dist = np.sqrt(np.sum((pos-xyz05_3)**2,axis=1))\n",
    "    minr05_3[index] = np.amin(dist)\n",
    "   \n",
    "        "
   ]
  },
  {
   "cell_type": "code",
   "execution_count": 36,
   "metadata": {},
   "outputs": [
    {
     "name": "stdout",
     "output_type": "stream",
     "text": [
      "Wall time: 1.39 s\n"
     ]
    }
   ],
   "source": [
    "%%time\n",
    "xr = np.random.uniform(np.amin(xyz05_4[:,0]),np.amax(xyz05_4[:,0]),len(xyz05_4))\n",
    "yr = np.random.uniform(np.amin(xyz05_4[:,1]),np.amax(xyz05_4[:,1]),len(xyz05_4))\n",
    "zr = np.random.uniform(np.amin(xyz05_4[:,2]),np.amax(xyz05_4[:,2]),len(xyz05_4))\n",
    "xyz_r = np.vstack((xr,yr,zr)).T\n",
    "min05_4 = np.zeros(len(xyz05_4))\n",
    "minr05_4 = np.zeros(len(xyz05_4))\n",
    "for index,pos in enumerate(xyz05_4):\n",
    "    dist = np.sqrt(np.sum((pos-xyz05_4)**2,axis=1))\n",
    "    min05_4[index] = np.amin(dist[dist!=0])\n",
    "    \n",
    "for index,pos in enumerate(xyz_r):\n",
    "    dist = np.sqrt(np.sum((pos-xyz05_4)**2,axis=1))\n",
    "    minr05_4[index] = np.amin(dist)\n",
    "   \n",
    "        "
   ]
  },
  {
   "cell_type": "code",
   "execution_count": 37,
   "metadata": {},
   "outputs": [
    {
     "name": "stdout",
     "output_type": "stream",
     "text": [
      "Wall time: 1.44 s\n"
     ]
    }
   ],
   "source": [
    "%%time\n",
    "xr = np.random.uniform(np.amin(xyz05_5[:,0]),np.amax(xyz05_5[:,0]),len(xyz05_5))\n",
    "yr = np.random.uniform(np.amin(xyz05_5[:,1]),np.amax(xyz05_5[:,1]),len(xyz05_5))\n",
    "zr = np.random.uniform(np.amin(xyz05_5[:,2]),np.amax(xyz05_5[:,2]),len(xyz05_5))\n",
    "xyz_r = np.vstack((xr,yr,zr)).T\n",
    "min05_5 = np.zeros(len(xyz05_5))\n",
    "minr05_5 = np.zeros(len(xyz05_5))\n",
    "for index,pos in enumerate(xyz05_5):\n",
    "    dist = np.sqrt(np.sum((pos-xyz05_5)**2,axis=1))\n",
    "    min05_5[index] = np.amin(dist[dist!=0])\n",
    "    \n",
    "for index,pos in enumerate(xyz_r):\n",
    "    dist = np.sqrt(np.sum((pos-xyz05_5)**2,axis=1))\n",
    "    minr05_5[index] = np.amin(dist)\n",
    "   \n",
    "        "
   ]
  },
  {
   "cell_type": "code",
   "execution_count": 38,
   "metadata": {},
   "outputs": [
    {
     "name": "stdout",
     "output_type": "stream",
     "text": [
      "Wall time: 1.49 s\n"
     ]
    }
   ],
   "source": [
    "%%time\n",
    "xr = np.random.uniform(np.amin(xyz05_6[:,0]),np.amax(xyz05_6[:,0]),len(xyz05_6))\n",
    "yr = np.random.uniform(np.amin(xyz05_6[:,1]),np.amax(xyz05_6[:,1]),len(xyz05_6))\n",
    "zr = np.random.uniform(np.amin(xyz05_6[:,2]),np.amax(xyz05_6[:,2]),len(xyz05_6))\n",
    "xyz_r = np.vstack((xr,yr,zr)).T\n",
    "min05_6 = np.zeros(len(xyz05_6))\n",
    "minr05_6 = np.zeros(len(xyz05_6))\n",
    "for index,pos in enumerate(xyz05_6):\n",
    "    dist = np.sqrt(np.sum((pos-xyz05_6)**2,axis=1))\n",
    "    min05_6[index] = np.amin(dist[dist!=0])\n",
    "    \n",
    "for index,pos in enumerate(xyz_r):\n",
    "    dist = np.sqrt(np.sum((pos-xyz05_6)**2,axis=1))\n",
    "    minr05_6[index] = np.amin(dist)\n",
    "   \n",
    "        "
   ]
  },
  {
   "cell_type": "code",
   "execution_count": 39,
   "metadata": {},
   "outputs": [
    {
     "name": "stdout",
     "output_type": "stream",
     "text": [
      "Wall time: 1.67 s\n"
     ]
    }
   ],
   "source": [
    "%%time\n",
    "xr = np.random.uniform(np.amin(xyz05_7[:,0]),np.amax(xyz05_7[:,0]),len(xyz05_7))\n",
    "yr = np.random.uniform(np.amin(xyz05_7[:,1]),np.amax(xyz05_7[:,1]),len(xyz05_7))\n",
    "zr = np.random.uniform(np.amin(xyz05_7[:,2]),np.amax(xyz05_7[:,2]),len(xyz05_7))\n",
    "xyz_r = np.vstack((xr,yr,zr)).T\n",
    "min05_7 = np.zeros(len(xyz05_7))\n",
    "minr05_7 = np.zeros(len(xyz05_7))\n",
    "for index,pos in enumerate(xyz05_7):\n",
    "    dist = np.sqrt(np.sum((pos-xyz05_7)**2,axis=1))\n",
    "    min05_7[index] = np.amin(dist[dist!=0])\n",
    "    \n",
    "for index,pos in enumerate(xyz_r):\n",
    "    dist = np.sqrt(np.sum((pos-xyz05_7)**2,axis=1))\n",
    "    minr05_7[index] = np.amin(dist)\n",
    "   \n",
    "        "
   ]
  },
  {
   "cell_type": "code",
   "execution_count": 40,
   "metadata": {},
   "outputs": [
    {
     "name": "stdout",
     "output_type": "stream",
     "text": [
      "Wall time: 1.56 s\n"
     ]
    }
   ],
   "source": [
    "%%time\n",
    "xr = np.random.uniform(np.amin(xyz05_8[:,0]),np.amax(xyz05_8[:,0]),len(xyz05_8))\n",
    "yr = np.random.uniform(np.amin(xyz05_8[:,1]),np.amax(xyz05_8[:,1]),len(xyz05_8))\n",
    "zr = np.random.uniform(np.amin(xyz05_8[:,2]),np.amax(xyz05_8[:,2]),len(xyz05_8))\n",
    "xyz_r = np.vstack((xr,yr,zr)).T\n",
    "min05_8 = np.zeros(len(xyz05_8))\n",
    "minr05_8 = np.zeros(len(xyz05_8))\n",
    "for index,pos in enumerate(xyz05_8):\n",
    "    dist = np.sqrt(np.sum((pos-xyz05_8)**2,axis=1))\n",
    "    min05_8[index] = np.amin(dist[dist!=0])\n",
    "    \n",
    "for index,pos in enumerate(xyz_r):\n",
    "    dist = np.sqrt(np.sum((pos-xyz05_8)**2,axis=1))\n",
    "    minr05_8[index] = np.amin(dist)\n",
    "   \n",
    "        "
   ]
  },
  {
   "cell_type": "code",
   "execution_count": 41,
   "metadata": {},
   "outputs": [
    {
     "data": {
      "image/png": "[encoded data removed]",
      "text/plain": [
       "<Figure size 432x288 with 1 Axes>"
      ]
     },
     "metadata": {
      "needs_background": "light"
     },
     "output_type": "display_data"
    }
   ],
   "source": [
    "g05_1,bins,_ = plt.hist(min05_1,100,density=True,cumulative = True,range=(0,20))\n",
    "g05_2,bins,_  = plt.hist(min05_2,100,density=True,cumulative = True,range=(0,20))\n",
    "g05_3,bins,_  = plt.hist(min05_3,100,density=True,cumulative = True,range=(0,20))\n",
    "g05_4,bins,_  = plt.hist(min05_4,100,density=True,cumulative = True,range=(0,20))\n",
    "g05_5,bins,_  = plt.hist(min05_5,100,density=True,cumulative = True,range=(0,20))\n",
    "g05_6,bins,_  = plt.hist(min05_6,100,density=True,cumulative = True,range=(0,20))\n",
    "g05_7,bins,_  = plt.hist(min05_7,100,density=True,cumulative = True,range=(0,20))\n",
    "g05_8,bins,_  = plt.hist(min05_8,100,density=True,cumulative = True,range=(0,20))"
   ]
  },
  {
   "cell_type": "code",
   "execution_count": 42,
   "metadata": {},
   "outputs": [
    {
     "data": {
      "image/png": "[encoded data removed]",
      "text/plain": [
       "<Figure size 432x288 with 1 Axes>"
      ]
     },
     "metadata": {
      "needs_background": "light"
     },
     "output_type": "display_data"
    }
   ],
   "source": [
    "f05_1,bins,_ = plt.hist(minr05_1,100,density=True,cumulative = True,range=(0,20))\n",
    "f05_2,bins,_  = plt.hist(minr05_2,100,density=True,cumulative = True,range=(0,20))\n",
    "f05_3,bins,_  = plt.hist(minr05_3,100,density=True,cumulative = True,range=(0,20))\n",
    "f05_4,bins,_  = plt.hist(minr05_4,100,density=True,cumulative = True,range=(0,20))\n",
    "f05_5,bins,_  = plt.hist(minr05_5,100,density=True,cumulative = True,range=(0,20))\n",
    "f05_6,bins,_  = plt.hist(minr05_6,100,density=True,cumulative = True,range=(0,20))\n",
    "f05_7,bins,_  = plt.hist(minr05_7,100,density=True,cumulative = True,range=(0,20))\n",
    "f05_8,bins,_  = plt.hist(minr05_8,100,density=True,cumulative = True,range=(0,20))"
   ]
  },
  {
   "cell_type": "code",
   "execution_count": 43,
   "metadata": {},
   "outputs": [
    {
     "name": "stderr",
     "output_type": "stream",
     "text": [
      "C:\\Users\\zahra\\Anaconda3\\lib\\site-packages\\ipykernel_launcher.py:2: RuntimeWarning: divide by zero encountered in true_divide\n",
      "  \n",
      "C:\\Users\\zahra\\Anaconda3\\lib\\site-packages\\ipykernel_launcher.py:5: RuntimeWarning: divide by zero encountered in true_divide\n",
      "  \"\"\"\n",
      "C:\\Users\\zahra\\Anaconda3\\lib\\site-packages\\ipykernel_launcher.py:7: RuntimeWarning: divide by zero encountered in true_divide\n",
      "  import sys\n",
      "C:\\Users\\zahra\\Anaconda3\\lib\\site-packages\\ipykernel_launcher.py:8: RuntimeWarning: divide by zero encountered in true_divide\n",
      "  \n"
     ]
    }
   ],
   "source": [
    "j05_1 = (np.ones(100)-g05_1)/(np.ones(100)-f05_1)\n",
    "j05_2 = (np.ones(100)-g05_2)/(np.ones(100)-f05_2)\n",
    "j05_3 = (np.ones(100)-g05_3)/(np.ones(100)-f05_3)\n",
    "j05_4 = (np.ones(100)-g05_4)/(np.ones(100)-f05_4)\n",
    "j05_5 = (np.ones(100)-g05_5)/(np.ones(100)-f05_5)\n",
    "j05_6 = (np.ones(100)-g05_6)/(np.ones(100)-f05_6)\n",
    "j05_7 = (np.ones(100)-g05_7)/(np.ones(100)-f05_7)\n",
    "j05_8 = (np.ones(100)-g05_8)/(np.ones(100)-f05_8)"
   ]
  },
  {
   "cell_type": "code",
   "execution_count": 44,
   "metadata": {},
   "outputs": [
    {
     "name": "stderr",
     "output_type": "stream",
     "text": [
      "C:\\Users\\zahra\\Anaconda3\\lib\\site-packages\\numpy\\core\\_methods.py:75: RuntimeWarning: invalid value encountered in reduce\n",
      "  ret = umr_sum(arr, axis, dtype, out, keepdims)\n",
      "C:\\Users\\zahra\\Anaconda3\\lib\\site-packages\\numpy\\core\\_methods.py:107: RuntimeWarning: invalid value encountered in reduce\n",
      "  arrmean = umr_sum(arr, axis, dtype, keepdims=True)\n"
     ]
    }
   ],
   "source": [
    "j_mean_05 = np.mean((j05_1,j05_2,j05_3,j05_4,j05_5,j05_6,j05_7,j05_8),axis = 0)\n",
    "j_std_05 = np.std((j05_1,j05_2,j05_3,j05_4,j05_5,j05_6,j05_7,j05_8),axis = 0)"
   ]
  },
  {
   "cell_type": "code",
   "execution_count": 45,
   "metadata": {},
   "outputs": [],
   "source": [
    "bincenters = 0.5*(bins[1:]+bins[:-1])"
   ]
  },
  {
   "cell_type": "code",
   "execution_count": 50,
   "metadata": {},
   "outputs": [
    {
     "data": {
      "text/plain": [
       "(0, 1.25)"
      ]
     },
     "execution_count": 50,
     "metadata": {},
     "output_type": "execute_result"
    },
    {
     "data": {
      "image/png": "[encoded data removed]",
      "text/plain": [
       "<Figure size 432x288 with 1 Axes>"
      ]
     },
     "metadata": {
      "needs_background": "light"
     },
     "output_type": "display_data"
    }
   ],
   "source": [
    "plt.plot(bincenters,j_mean_0)\n",
    "plt.fill_between(bincenters,j_mean_0-j_std_0,j_mean_0+j_std_0)\n",
    "\n",
    "plt.plot(bincenters,j_mean_05)\n",
    "plt.fill_between(bincenters,j_mean_05-j_std_05,j_mean_05+j_std_05)\n",
    "plt.xlim(0,14)\n",
    "plt.ylim(0,1.25)"
   ]
  },
  {
   "cell_type": "code",
   "execution_count": 46,
   "metadata": {},
   "outputs": [],
   "source": [
    "data1_1 = data1[(data1['x']<200)&(data1['y']<200)&(data1['z']<200)]\n",
    "data1_2 = data1[(data1['x']<200)&(data1['y']<200)&(data1['z']>200)]\n",
    "data1_3 = data1[(data1['x']<200)&(data1['y']>200)&(data1['z']<200)]\n",
    "data1_4 = data1[(data1['x']>200)&(data1['y']<200)&(data1['z']<200)]\n",
    "data1_5 = data1[(data1['x']>200)&(data1['y']>200)&(data1['z']<200)]\n",
    "data1_6 = data1[(data1['x']>200)&(data1['y']<200)&(data1['z']>200)]\n",
    "data1_7 = data1[(data1['x']<200)&(data1['y']>200)&(data1['z']>200)]\n",
    "data1_8 = data1[(data1['x']>200)&(data1['y']>200)&(data1['z']>200)]"
   ]
  },
  {
   "cell_type": "code",
   "execution_count": 47,
   "metadata": {},
   "outputs": [],
   "source": [
    "xyz1_1 = data1_1[['x','y','z']].values\n",
    "xyz1_2 = data1_2[['x','y','z']].values\n",
    "xyz1_3 = data1_3[['x','y','z']].values\n",
    "xyz1_4 = data1_4[['x','y','z']].values\n",
    "xyz1_5 = data1_5[['x','y','z']].values\n",
    "xyz1_6 = data1_6[['x','y','z']].values\n",
    "xyz1_7 = data1_7[['x','y','z']].values\n",
    "xyz1_8 = data1_8[['x','y','z']].values"
   ]
  },
  {
   "cell_type": "code",
   "execution_count": 48,
   "metadata": {},
   "outputs": [
    {
     "name": "stdout",
     "output_type": "stream",
     "text": [
      "Wall time: 1.5 s\n"
     ]
    }
   ],
   "source": [
    "%%time\n",
    "xr = np.random.uniform(np.amin(xyz1_1[:,0]),np.amax(xyz1_1[:,0]),len(xyz1_1))\n",
    "yr = np.random.uniform(np.amin(xyz1_1[:,1]),np.amax(xyz1_1[:,1]),len(xyz1_1))\n",
    "zr = np.random.uniform(np.amin(xyz1_1[:,2]),np.amax(xyz1_1[:,2]),len(xyz1_1))\n",
    "xyz_r = np.vstack((xr,yr,zr)).T\n",
    "min1_1 = np.zeros(len(xyz1_1))\n",
    "minr1_1 = np.zeros(len(xyz1_1))\n",
    "for index,pos in enumerate(xyz1_1):\n",
    "    dist = np.sqrt(np.sum((pos-xyz1_1)**2,axis=1))\n",
    "    min1_1[index] = np.amin(dist[dist!=0])\n",
    "    \n",
    "for index,pos in enumerate(xyz_r):\n",
    "    dist = np.sqrt(np.sum((pos-xyz1_1)**2,axis=1))\n",
    "    minr1_1[index] = np.amin(dist)\n",
    "   \n",
    "        "
   ]
  },
  {
   "cell_type": "code",
   "execution_count": 49,
   "metadata": {},
   "outputs": [
    {
     "name": "stdout",
     "output_type": "stream",
     "text": [
      "Wall time: 1.61 s\n"
     ]
    }
   ],
   "source": [
    "%%time\n",
    "xr = np.random.uniform(np.amin(xyz1_2[:,0]),np.amax(xyz1_2[:,0]),len(xyz1_2))\n",
    "yr = np.random.uniform(np.amin(xyz1_2[:,1]),np.amax(xyz1_2[:,1]),len(xyz1_2))\n",
    "zr = np.random.uniform(np.amin(xyz1_2[:,2]),np.amax(xyz1_2[:,2]),len(xyz1_2))\n",
    "xyz_r = np.vstack((xr,yr,zr)).T\n",
    "min1_2 = np.zeros(len(xyz1_2))\n",
    "minr1_2 = np.zeros(len(xyz1_2))\n",
    "for index,pos in enumerate(xyz1_2):\n",
    "    dist = np.sqrt(np.sum((pos-xyz1_2)**2,axis=1))\n",
    "    min1_2[index] = np.amin(dist[dist!=0])\n",
    "    \n",
    "for index,pos in enumerate(xyz_r):\n",
    "    dist = np.sqrt(np.sum((pos-xyz1_2)**2,axis=1))\n",
    "    minr1_2[index] = np.amin(dist)\n",
    "   \n",
    "        "
   ]
  },
  {
   "cell_type": "code",
   "execution_count": 50,
   "metadata": {},
   "outputs": [
    {
     "name": "stdout",
     "output_type": "stream",
     "text": [
      "Wall time: 1.43 s\n"
     ]
    }
   ],
   "source": [
    "%%time\n",
    "xr = np.random.uniform(np.amin(xyz1_3[:,0]),np.amax(xyz1_3[:,0]),len(xyz1_3))\n",
    "yr = np.random.uniform(np.amin(xyz1_3[:,1]),np.amax(xyz1_3[:,1]),len(xyz1_3))\n",
    "zr = np.random.uniform(np.amin(xyz1_3[:,2]),np.amax(xyz1_3[:,2]),len(xyz1_3))\n",
    "xyz_r = np.vstack((xr,yr,zr)).T\n",
    "min1_3 = np.zeros(len(xyz1_3))\n",
    "minr1_3 = np.zeros(len(xyz1_3))\n",
    "for index,pos in enumerate(xyz1_3):\n",
    "    dist = np.sqrt(np.sum((pos-xyz1_3)**2,axis=1))\n",
    "    min1_3[index] = np.amin(dist[dist!=0])\n",
    "    \n",
    "for index,pos in enumerate(xyz_r):\n",
    "    dist = np.sqrt(np.sum((pos-xyz1_3)**2,axis=1))\n",
    "    minr1_3[index] = np.amin(dist)\n",
    "   \n",
    "        "
   ]
  },
  {
   "cell_type": "code",
   "execution_count": 51,
   "metadata": {},
   "outputs": [
    {
     "name": "stdout",
     "output_type": "stream",
     "text": [
      "Wall time: 1.31 s\n"
     ]
    }
   ],
   "source": [
    "%%time\n",
    "xr = np.random.uniform(np.amin(xyz1_4[:,0]),np.amax(xyz1_4[:,0]),len(xyz1_4))\n",
    "yr = np.random.uniform(np.amin(xyz1_4[:,1]),np.amax(xyz1_4[:,1]),len(xyz1_4))\n",
    "zr = np.random.uniform(np.amin(xyz1_4[:,2]),np.amax(xyz1_4[:,2]),len(xyz1_4))\n",
    "xyz_r = np.vstack((xr,yr,zr)).T\n",
    "min1_4 = np.zeros(len(xyz1_4))\n",
    "minr1_4 = np.zeros(len(xyz1_4))\n",
    "for index,pos in enumerate(xyz1_4):\n",
    "    dist = np.sqrt(np.sum((pos-xyz1_4)**2,axis=1))\n",
    "    min1_4[index] = np.amin(dist[dist!=0])\n",
    "    \n",
    "for index,pos in enumerate(xyz_r):\n",
    "    dist = np.sqrt(np.sum((pos-xyz1_4)**2,axis=1))\n",
    "    minr1_4[index] = np.amin(dist)\n",
    "   \n",
    "        "
   ]
  },
  {
   "cell_type": "code",
   "execution_count": 52,
   "metadata": {},
   "outputs": [
    {
     "name": "stdout",
     "output_type": "stream",
     "text": [
      "Wall time: 1.52 s\n"
     ]
    }
   ],
   "source": [
    "%%time\n",
    "xr = np.random.uniform(np.amin(xyz1_5[:,0]),np.amax(xyz1_5[:,0]),len(xyz1_5))\n",
    "yr = np.random.uniform(np.amin(xyz1_5[:,1]),np.amax(xyz1_5[:,1]),len(xyz1_5))\n",
    "zr = np.random.uniform(np.amin(xyz1_5[:,2]),np.amax(xyz1_5[:,2]),len(xyz1_5))\n",
    "xyz_r = np.vstack((xr,yr,zr)).T\n",
    "min1_5 = np.zeros(len(xyz1_5))\n",
    "minr1_5 = np.zeros(len(xyz1_5))\n",
    "for index,pos in enumerate(xyz1_5):\n",
    "    dist = np.sqrt(np.sum((pos-xyz1_5)**2,axis=1))\n",
    "    min1_5[index] = np.amin(dist[dist!=0])\n",
    "    \n",
    "for index,pos in enumerate(xyz_r):\n",
    "    dist = np.sqrt(np.sum((pos-xyz1_5)**2,axis=1))\n",
    "    minr1_5[index] = np.amin(dist)\n",
    "   \n",
    "        "
   ]
  },
  {
   "cell_type": "code",
   "execution_count": 53,
   "metadata": {},
   "outputs": [
    {
     "name": "stdout",
     "output_type": "stream",
     "text": [
      "Wall time: 1.55 s\n"
     ]
    }
   ],
   "source": [
    "%%time\n",
    "xr = np.random.uniform(np.amin(xyz1_6[:,0]),np.amax(xyz1_6[:,0]),len(xyz1_6))\n",
    "yr = np.random.uniform(np.amin(xyz1_6[:,1]),np.amax(xyz1_6[:,1]),len(xyz1_6))\n",
    "zr = np.random.uniform(np.amin(xyz1_6[:,2]),np.amax(xyz1_6[:,2]),len(xyz1_6))\n",
    "xyz_r = np.vstack((xr,yr,zr)).T\n",
    "min1_6 = np.zeros(len(xyz1_6))\n",
    "minr1_6 = np.zeros(len(xyz1_6))\n",
    "for index,pos in enumerate(xyz1_6):\n",
    "    dist = np.sqrt(np.sum((pos-xyz1_6)**2,axis=1))\n",
    "    min1_6[index] = np.amin(dist[dist!=0])\n",
    "    \n",
    "for index,pos in enumerate(xyz_r):\n",
    "    dist = np.sqrt(np.sum((pos-xyz1_6)**2,axis=1))\n",
    "    minr1_6[index] = np.amin(dist)\n",
    "   \n",
    "        "
   ]
  },
  {
   "cell_type": "code",
   "execution_count": 54,
   "metadata": {},
   "outputs": [
    {
     "name": "stdout",
     "output_type": "stream",
     "text": [
      "Wall time: 1.68 s\n"
     ]
    }
   ],
   "source": [
    "%%time\n",
    "xr = np.random.uniform(np.amin(xyz1_7[:,0]),np.amax(xyz1_7[:,0]),len(xyz1_7))\n",
    "yr = np.random.uniform(np.amin(xyz1_7[:,1]),np.amax(xyz1_7[:,1]),len(xyz1_7))\n",
    "zr = np.random.uniform(np.amin(xyz1_7[:,2]),np.amax(xyz1_7[:,2]),len(xyz1_7))\n",
    "xyz_r = np.vstack((xr,yr,zr)).T\n",
    "min1_7 = np.zeros(len(xyz1_7))\n",
    "minr1_7 = np.zeros(len(xyz1_7))\n",
    "for index,pos in enumerate(xyz1_7):\n",
    "    dist = np.sqrt(np.sum((pos-xyz1_7)**2,axis=1))\n",
    "    min1_7[index] = np.amin(dist[dist!=0])\n",
    "    \n",
    "for index,pos in enumerate(xyz_r):\n",
    "    dist = np.sqrt(np.sum((pos-xyz1_7)**2,axis=1))\n",
    "    minr1_7[index] = np.amin(dist)\n",
    "   \n",
    "        "
   ]
  },
  {
   "cell_type": "code",
   "execution_count": 55,
   "metadata": {},
   "outputs": [
    {
     "name": "stdout",
     "output_type": "stream",
     "text": [
      "Wall time: 1.52 s\n"
     ]
    }
   ],
   "source": [
    "%%time\n",
    "xr = np.random.uniform(np.amin(xyz1_8[:,0]),np.amax(xyz1_8[:,0]),len(xyz1_8))\n",
    "yr = np.random.uniform(np.amin(xyz1_8[:,1]),np.amax(xyz1_8[:,1]),len(xyz1_8))\n",
    "zr = np.random.uniform(np.amin(xyz1_8[:,2]),np.amax(xyz1_8[:,2]),len(xyz1_8))\n",
    "xyz_r = np.vstack((xr,yr,zr)).T\n",
    "min1_8 = np.zeros(len(xyz1_8))\n",
    "minr1_8 = np.zeros(len(xyz1_8))\n",
    "for index,pos in enumerate(xyz1_8):\n",
    "    dist = np.sqrt(np.sum((pos-xyz1_8)**2,axis=1))\n",
    "    min1_8[index] = np.amin(dist[dist!=0])\n",
    "    \n",
    "for index,pos in enumerate(xyz_r):\n",
    "    dist = np.sqrt(np.sum((pos-xyz1_8)**2,axis=1))\n",
    "    minr1_8[index] = np.amin(dist)\n",
    "   \n",
    "        "
   ]
  },
  {
   "cell_type": "code",
   "execution_count": 56,
   "metadata": {},
   "outputs": [
    {
     "data": {
      "image/png": "[encoded data removed]",
      "text/plain": [
       "<Figure size 432x288 with 1 Axes>"
      ]
     },
     "metadata": {
      "needs_background": "light"
     },
     "output_type": "display_data"
    }
   ],
   "source": [
    "g1_1,bins,_ = plt.hist(min1_1,100,density=True,cumulative = True,range=(0,20))\n",
    "g1_2,bins,_  = plt.hist(min1_2,100,density=True,cumulative = True,range=(0,20))\n",
    "g1_3,bins,_  = plt.hist(min1_3,100,density=True,cumulative = True,range=(0,20))\n",
    "g1_4,bins,_  = plt.hist(min1_4,100,density=True,cumulative = True,range=(0,20))\n",
    "g1_5,bins,_  = plt.hist(min1_5,100,density=True,cumulative = True,range=(0,20))\n",
    "g1_6,bins,_  = plt.hist(min1_6,100,density=True,cumulative = True,range=(0,20))\n",
    "g1_7,bins,_  = plt.hist(min1_7,100,density=True,cumulative = True,range=(0,20))\n",
    "g1_8,bins,_  = plt.hist(min1_8,100,density=True,cumulative = True,range=(0,20))"
   ]
  },
  {
   "cell_type": "code",
   "execution_count": 57,
   "metadata": {},
   "outputs": [
    {
     "data": {
      "image/png": "[encoded data removed]",
      "text/plain": [
       "<Figure size 432x288 with 1 Axes>"
      ]
     },
     "metadata": {
      "needs_background": "light"
     },
     "output_type": "display_data"
    }
   ],
   "source": [
    "f1_1,bins,_ = plt.hist(minr1_1,100,density=True,cumulative = True,range=(0,20))\n",
    "f1_2,bins,_  = plt.hist(minr1_2,100,density=True,cumulative = True,range=(0,20))\n",
    "f1_3,bins,_  = plt.hist(minr1_3,100,density=True,cumulative = True,range=(0,20))\n",
    "f1_4,bins,_  = plt.hist(minr1_4,100,density=True,cumulative = True,range=(0,20))\n",
    "f1_5,bins,_  = plt.hist(minr1_5,100,density=True,cumulative = True,range=(0,20))\n",
    "f1_6,bins,_  = plt.hist(minr1_6,100,density=True,cumulative = True,range=(0,20))\n",
    "f1_7,bins,_  = plt.hist(minr1_7,100,density=True,cumulative = True,range=(0,20))\n",
    "f1_8,bins,_  = plt.hist(minr1_8,100,density=True,cumulative = True,range=(0,20))"
   ]
  },
  {
   "cell_type": "code",
   "execution_count": 58,
   "metadata": {},
   "outputs": [],
   "source": [
    "j1_1 = (np.ones(100)-g1_1)/(np.ones(100)-f1_1)\n",
    "j1_2 = (np.ones(100)-g1_2)/(np.ones(100)-f1_2)\n",
    "j1_3 = (np.ones(100)-g1_3)/(np.ones(100)-f1_3)\n",
    "j1_4 = (np.ones(100)-g1_4)/(np.ones(100)-f1_4)\n",
    "j1_5 = (np.ones(100)-g1_5)/(np.ones(100)-f1_5)\n",
    "j1_6 = (np.ones(100)-g1_6)/(np.ones(100)-f1_6)\n",
    "j1_7 = (np.ones(100)-g1_7)/(np.ones(100)-f1_7)\n",
    "j1_8 = (np.ones(100)-g1_8)/(np.ones(100)-f1_8)"
   ]
  },
  {
   "cell_type": "code",
   "execution_count": 59,
   "metadata": {},
   "outputs": [],
   "source": [
    "j_mean_1 = np.mean((j1_1,j1_2,j1_3,j1_4,j1_5,j1_6,j1_7,j1_8),axis = 0)\n",
    "j_std_1 = np.std((j1_1,j1_2,j1_3,j1_4,j1_5,j1_6,j1_7,j1_8),axis = 0)"
   ]
  },
  {
   "cell_type": "code",
   "execution_count": 60,
   "metadata": {},
   "outputs": [],
   "source": [
    "bincenters = 0.5*(bins[1:]+bins[:-1])"
   ]
  },
  {
   "cell_type": "code",
   "execution_count": 66,
   "metadata": {},
   "outputs": [
    {
     "data": {
      "text/plain": [
       "array([1.00000000e+00, 9.99427981e-01, 9.95318799e-01, 9.88922935e-01,\n",
       "       9.81293658e-01, 9.73667458e-01, 9.63401238e-01, 9.53174320e-01,\n",
       "       9.39681313e-01, 9.28482211e-01, 9.14869262e-01, 9.00337467e-01,\n",
       "       8.88398397e-01, 8.72393426e-01, 8.59226016e-01, 8.44921006e-01,\n",
       "       8.32166430e-01, 8.16937995e-01, 8.01864053e-01, 7.86674241e-01,\n",
       "       7.71679208e-01, 7.58038892e-01, 7.45437216e-01, 7.32176842e-01,\n",
       "       7.20775736e-01, 7.10180685e-01, 6.95840474e-01, 6.79558033e-01,\n",
       "       6.66649299e-01, 6.56326785e-01, 6.41079456e-01, 6.29376363e-01,\n",
       "       6.12860188e-01, 5.96923813e-01, 5.81977594e-01, 5.73127537e-01,\n",
       "       5.67482026e-01, 5.55888497e-01, 5.43379429e-01, 5.32556829e-01,\n",
       "       5.23320687e-01, 5.10424465e-01, 5.01427423e-01, 4.90770600e-01,\n",
       "       4.84634503e-01, 4.72545064e-01, 4.63277591e-01, 4.57757036e-01,\n",
       "       4.50538244e-01, 4.43075916e-01, 4.31488927e-01, 4.15993540e-01,\n",
       "       4.05673076e-01, 3.97820251e-01, 3.93196183e-01, 3.86928363e-01,\n",
       "       3.72199721e-01, 3.61049148e-01, 3.54960461e-01, 3.48566284e-01,\n",
       "       3.34813271e-01, 3.32434369e-01, 3.29453337e-01, 3.29674786e-01,\n",
       "       3.23096398e-01, 3.15842828e-01, 3.12036005e-01, 3.04241960e-01,\n",
       "       2.91501413e-01, 2.83640652e-01, 2.89642131e-01, 2.75709665e-01,\n",
       "       2.64596571e-01, 2.46494114e-01, 2.41639567e-01, 2.35193973e-01,\n",
       "       2.45339953e-01, 2.60750023e-01, 2.87164690e-01, 2.86816721e-01,\n",
       "       3.51769709e-01, 3.29695805e-01, 3.46878839e-01, 3.44114425e-01,\n",
       "       4.47422253e-01, 3.53829820e-01, 3.50494560e-01, 3.78963281e+10,\n",
       "       3.78963281e+10, 3.78963281e+10,           -inf,           -inf,\n",
       "                 -inf,           -inf,           -inf,           -inf,\n",
       "                  nan,            nan,            nan,            nan])"
      ]
     },
     "execution_count": 66,
     "metadata": {},
     "output_type": "execute_result"
    }
   ],
   "source": [
    "j_mean_0"
   ]
  },
  {
   "cell_type": "code",
   "execution_count": 61,
   "metadata": {},
   "outputs": [],
   "source": [
    "data2_1 = data2[(data2['x']<200)&(data2['y']<200)&(data2['z']<200)]\n",
    "data2_2 = data2[(data2['x']<200)&(data2['y']<200)&(data2['z']>200)]\n",
    "data2_3 = data2[(data2['x']<200)&(data2['y']>200)&(data2['z']<200)]\n",
    "data2_4 = data2[(data2['x']>200)&(data2['y']<200)&(data2['z']<200)]\n",
    "data2_5 = data2[(data2['x']>200)&(data2['y']>200)&(data2['z']<200)]\n",
    "data2_6 = data2[(data2['x']>200)&(data2['y']<200)&(data2['z']>200)]\n",
    "data2_7 = data2[(data2['x']<200)&(data2['y']>200)&(data2['z']>200)]\n",
    "data2_8 = data2[(data2['x']>200)&(data2['y']>200)&(data2['z']>200)]"
   ]
  },
  {
   "cell_type": "code",
   "execution_count": 62,
   "metadata": {},
   "outputs": [],
   "source": [
    "xyz2_1 = data2_1[['x','y','z']].values\n",
    "xyz2_2 = data2_2[['x','y','z']].values\n",
    "xyz2_3 = data2_3[['x','y','z']].values\n",
    "xyz2_4 = data2_4[['x','y','z']].values\n",
    "xyz2_5 = data2_5[['x','y','z']].values\n",
    "xyz2_6 = data2_6[['x','y','z']].values\n",
    "xyz2_7 = data2_7[['x','y','z']].values\n",
    "xyz2_8 = data2_8[['x','y','z']].values"
   ]
  },
  {
   "cell_type": "code",
   "execution_count": 63,
   "metadata": {},
   "outputs": [
    {
     "name": "stdout",
     "output_type": "stream",
     "text": [
      "Wall time: 1.44 s\n"
     ]
    }
   ],
   "source": [
    "%%time\n",
    "xr = np.random.uniform(np.amin(xyz2_1[:,0]),np.amax(xyz2_1[:,0]),len(xyz2_1))\n",
    "yr = np.random.uniform(np.amin(xyz2_1[:,1]),np.amax(xyz2_1[:,1]),len(xyz2_1))\n",
    "zr = np.random.uniform(np.amin(xyz2_1[:,2]),np.amax(xyz2_1[:,2]),len(xyz2_1))\n",
    "xyz_r = np.vstack((xr,yr,zr)).T\n",
    "min2_1 = np.zeros(len(xyz2_1))\n",
    "minr2_1 = np.zeros(len(xyz2_1))\n",
    "for index,pos in enumerate(xyz2_1):\n",
    "    dist = np.sqrt(np.sum((pos-xyz2_1)**2,axis=1))\n",
    "    min2_1[index] = np.amin(dist[dist!=0])\n",
    "    \n",
    "for index,pos in enumerate(xyz_r):\n",
    "    dist = np.sqrt(np.sum((pos-xyz2_1)**2,axis=1))\n",
    "    minr2_1[index] = np.amin(dist)\n",
    "   \n",
    "        "
   ]
  },
  {
   "cell_type": "code",
   "execution_count": 64,
   "metadata": {},
   "outputs": [
    {
     "name": "stdout",
     "output_type": "stream",
     "text": [
      "Wall time: 1.45 s\n"
     ]
    }
   ],
   "source": [
    "%%time\n",
    "xr = np.random.uniform(np.amin(xyz2_2[:,0]),np.amax(xyz2_2[:,0]),len(xyz2_2))\n",
    "yr = np.random.uniform(np.amin(xyz2_2[:,1]),np.amax(xyz2_2[:,1]),len(xyz2_2))\n",
    "zr = np.random.uniform(np.amin(xyz2_2[:,2]),np.amax(xyz2_2[:,2]),len(xyz2_2))\n",
    "xyz_r = np.vstack((xr,yr,zr)).T\n",
    "min2_2 = np.zeros(len(xyz2_2))\n",
    "minr2_2 = np.zeros(len(xyz2_2))\n",
    "for index,pos in enumerate(xyz2_2):\n",
    "    dist = np.sqrt(np.sum((pos-xyz2_2)**2,axis=1))\n",
    "    min2_2[index] = np.amin(dist[dist!=0])\n",
    "    \n",
    "for index,pos in enumerate(xyz_r):\n",
    "    dist = np.sqrt(np.sum((pos-xyz2_2)**2,axis=1))\n",
    "    minr2_2[index] = np.amin(dist)\n",
    "   \n",
    "        "
   ]
  },
  {
   "cell_type": "code",
   "execution_count": 65,
   "metadata": {},
   "outputs": [
    {
     "name": "stdout",
     "output_type": "stream",
     "text": [
      "Wall time: 1.33 s\n"
     ]
    }
   ],
   "source": [
    "%%time\n",
    "xr = np.random.uniform(np.amin(xyz2_3[:,0]),np.amax(xyz2_3[:,0]),len(xyz2_3))\n",
    "yr = np.random.uniform(np.amin(xyz2_3[:,1]),np.amax(xyz2_3[:,1]),len(xyz2_3))\n",
    "zr = np.random.uniform(np.amin(xyz2_3[:,2]),np.amax(xyz2_3[:,2]),len(xyz2_3))\n",
    "xyz_r = np.vstack((xr,yr,zr)).T\n",
    "min2_3 = np.zeros(len(xyz2_3))\n",
    "minr2_3 = np.zeros(len(xyz2_3))\n",
    "for index,pos in enumerate(xyz2_3):\n",
    "    dist = np.sqrt(np.sum((pos-xyz2_3)**2,axis=1))\n",
    "    min2_3[index] = np.amin(dist[dist!=0])\n",
    "    \n",
    "for index,pos in enumerate(xyz_r):\n",
    "    dist = np.sqrt(np.sum((pos-xyz2_3)**2,axis=1))\n",
    "    minr2_3[index] = np.amin(dist)\n",
    "   \n",
    "        "
   ]
  },
  {
   "cell_type": "code",
   "execution_count": 66,
   "metadata": {},
   "outputs": [
    {
     "name": "stdout",
     "output_type": "stream",
     "text": [
      "Wall time: 1.35 s\n"
     ]
    }
   ],
   "source": [
    "%%time\n",
    "xr = np.random.uniform(np.amin(xyz2_4[:,0]),np.amax(xyz2_4[:,0]),len(xyz2_4))\n",
    "yr = np.random.uniform(np.amin(xyz2_4[:,1]),np.amax(xyz2_4[:,1]),len(xyz2_4))\n",
    "zr = np.random.uniform(np.amin(xyz2_4[:,2]),np.amax(xyz2_4[:,2]),len(xyz2_4))\n",
    "xyz_r = np.vstack((xr,yr,zr)).T\n",
    "min2_4 = np.zeros(len(xyz2_4))\n",
    "minr2_4 = np.zeros(len(xyz2_4))\n",
    "for index,pos in enumerate(xyz2_4):\n",
    "    dist = np.sqrt(np.sum((pos-xyz2_4)**2,axis=1))\n",
    "    min2_4[index] = np.amin(dist[dist!=0])\n",
    "    \n",
    "for index,pos in enumerate(xyz_r):\n",
    "    dist = np.sqrt(np.sum((pos-xyz2_4)**2,axis=1))\n",
    "    minr2_4[index] = np.amin(dist)\n",
    "   \n",
    "        "
   ]
  },
  {
   "cell_type": "code",
   "execution_count": 67,
   "metadata": {},
   "outputs": [
    {
     "name": "stdout",
     "output_type": "stream",
     "text": [
      "Wall time: 1.47 s\n"
     ]
    }
   ],
   "source": [
    "%%time\n",
    "xr = np.random.uniform(np.amin(xyz2_5[:,0]),np.amax(xyz2_5[:,0]),len(xyz2_5))\n",
    "yr = np.random.uniform(np.amin(xyz2_5[:,1]),np.amax(xyz2_5[:,1]),len(xyz2_5))\n",
    "zr = np.random.uniform(np.amin(xyz2_5[:,2]),np.amax(xyz2_5[:,2]),len(xyz2_5))\n",
    "xyz_r = np.vstack((xr,yr,zr)).T\n",
    "min2_5 = np.zeros(len(xyz2_5))\n",
    "minr2_5 = np.zeros(len(xyz2_5))\n",
    "for index,pos in enumerate(xyz2_5):\n",
    "    dist = np.sqrt(np.sum((pos-xyz2_5)**2,axis=1))\n",
    "    min2_5[index] = np.amin(dist[dist!=0])\n",
    "    \n",
    "for index,pos in enumerate(xyz_r):\n",
    "    dist = np.sqrt(np.sum((pos-xyz2_5)**2,axis=1))\n",
    "    minr2_5[index] = np.amin(dist)\n",
    "   \n",
    "        "
   ]
  },
  {
   "cell_type": "code",
   "execution_count": 68,
   "metadata": {},
   "outputs": [
    {
     "name": "stdout",
     "output_type": "stream",
     "text": [
      "Wall time: 1.54 s\n"
     ]
    }
   ],
   "source": [
    "%%time\n",
    "xr = np.random.uniform(np.amin(xyz2_6[:,0]),np.amax(xyz2_6[:,0]),len(xyz2_6))\n",
    "yr = np.random.uniform(np.amin(xyz2_6[:,1]),np.amax(xyz2_6[:,1]),len(xyz2_6))\n",
    "zr = np.random.uniform(np.amin(xyz2_6[:,2]),np.amax(xyz2_6[:,2]),len(xyz2_6))\n",
    "xyz_r = np.vstack((xr,yr,zr)).T\n",
    "min2_6 = np.zeros(len(xyz2_6))\n",
    "minr2_6 = np.zeros(len(xyz2_6))\n",
    "for index,pos in enumerate(xyz2_6):\n",
    "    dist = np.sqrt(np.sum((pos-xyz2_6)**2,axis=1))\n",
    "    min2_6[index] = np.amin(dist[dist!=0])\n",
    "    \n",
    "for index,pos in enumerate(xyz_r):\n",
    "    dist = np.sqrt(np.sum((pos-xyz2_6)**2,axis=1))\n",
    "    minr2_6[index] = np.amin(dist)\n",
    "   \n",
    "        "
   ]
  },
  {
   "cell_type": "code",
   "execution_count": 69,
   "metadata": {},
   "outputs": [
    {
     "name": "stdout",
     "output_type": "stream",
     "text": [
      "Wall time: 1.76 s\n"
     ]
    }
   ],
   "source": [
    "%%time\n",
    "xr = np.random.uniform(np.amin(xyz2_7[:,0]),np.amax(xyz2_7[:,0]),len(xyz2_7))\n",
    "yr = np.random.uniform(np.amin(xyz2_7[:,1]),np.amax(xyz2_7[:,1]),len(xyz2_7))\n",
    "zr = np.random.uniform(np.amin(xyz2_7[:,2]),np.amax(xyz2_7[:,2]),len(xyz2_7))\n",
    "xyz_r = np.vstack((xr,yr,zr)).T\n",
    "min2_7 = np.zeros(len(xyz2_7))\n",
    "minr2_7 = np.zeros(len(xyz2_7))\n",
    "for index,pos in enumerate(xyz2_7):\n",
    "    dist = np.sqrt(np.sum((pos-xyz2_7)**2,axis=1))\n",
    "    min2_7[index] = np.amin(dist[dist!=0])\n",
    "    \n",
    "for index,pos in enumerate(xyz_r):\n",
    "    dist = np.sqrt(np.sum((pos-xyz2_7)**2,axis=1))\n",
    "    minr2_7[index] = np.amin(dist)\n",
    "   \n",
    "        "
   ]
  },
  {
   "cell_type": "code",
   "execution_count": 70,
   "metadata": {},
   "outputs": [
    {
     "name": "stdout",
     "output_type": "stream",
     "text": [
      "Wall time: 1.62 s\n"
     ]
    }
   ],
   "source": [
    "%%time\n",
    "xr = np.random.uniform(np.amin(xyz2_8[:,0]),np.amax(xyz2_8[:,0]),len(xyz2_8))\n",
    "yr = np.random.uniform(np.amin(xyz2_8[:,1]),np.amax(xyz2_8[:,1]),len(xyz2_8))\n",
    "zr = np.random.uniform(np.amin(xyz2_8[:,2]),np.amax(xyz2_8[:,2]),len(xyz2_8))\n",
    "xyz_r = np.vstack((xr,yr,zr)).T\n",
    "min2_8 = np.zeros(len(xyz2_8))\n",
    "minr2_8 = np.zeros(len(xyz2_8))\n",
    "for index,pos in enumerate(xyz2_8):\n",
    "    dist = np.sqrt(np.sum((pos-xyz2_8)**2,axis=1))\n",
    "    min2_8[index] = np.amin(dist[dist!=0])\n",
    "    \n",
    "for index,pos in enumerate(xyz_r):\n",
    "    dist = np.sqrt(np.sum((pos-xyz2_8)**2,axis=1))\n",
    "    minr2_8[index] = np.amin(dist)\n",
    "   \n",
    "        "
   ]
  },
  {
   "cell_type": "code",
   "execution_count": 71,
   "metadata": {},
   "outputs": [
    {
     "data": {
      "image/png": "[encoded data removed]",
      "text/plain": [
       "<Figure size 432x288 with 1 Axes>"
      ]
     },
     "metadata": {
      "needs_background": "light"
     },
     "output_type": "display_data"
    }
   ],
   "source": [
    "g2_1,bins,_ = plt.hist(min2_1,100,density=True,cumulative = True,range=(0,20))\n",
    "g2_2,bins,_  = plt.hist(min2_2,100,density=True,cumulative = True,range=(0,20))\n",
    "g2_3,bins,_  = plt.hist(min2_3,100,density=True,cumulative = True,range=(0,20))\n",
    "g2_4,bins,_  = plt.hist(min2_4,100,density=True,cumulative = True,range=(0,20))\n",
    "g2_5,bins,_  = plt.hist(min2_5,100,density=True,cumulative = True,range=(0,20))\n",
    "g2_6,bins,_  = plt.hist(min2_6,100,density=True,cumulative = True,range=(0,20))\n",
    "g2_7,bins,_  = plt.hist(min2_7,100,density=True,cumulative = True,range=(0,20))\n",
    "g2_8,bins,_  = plt.hist(min2_8,100,density=True,cumulative = True,range=(0,20))"
   ]
  },
  {
   "cell_type": "code",
   "execution_count": 72,
   "metadata": {},
   "outputs": [
    {
     "data": {
      "image/png": "[encoded data removed]",
      "text/plain": [
       "<Figure size 432x288 with 1 Axes>"
      ]
     },
     "metadata": {
      "needs_background": "light"
     },
     "output_type": "display_data"
    }
   ],
   "source": [
    "f2_1,bins,_ = plt.hist(minr2_1,100,density=True,cumulative = True,range=(0,20))\n",
    "f2_2,bins,_  = plt.hist(minr2_2,100,density=True,cumulative = True,range=(0,20))\n",
    "f2_3,bins,_  = plt.hist(minr2_3,100,density=True,cumulative = True,range=(0,20))\n",
    "f2_4,bins,_  = plt.hist(minr2_4,100,density=True,cumulative = True,range=(0,20))\n",
    "f2_5,bins,_  = plt.hist(minr2_5,100,density=True,cumulative = True,range=(0,20))\n",
    "f2_6,bins,_  = plt.hist(minr2_6,100,density=True,cumulative = True,range=(0,20))\n",
    "f2_7,bins,_  = plt.hist(minr2_7,100,density=True,cumulative = True,range=(0,20))\n",
    "f2_8,bins,_  = plt.hist(minr2_8,100,density=True,cumulative = True,range=(0,20))"
   ]
  },
  {
   "cell_type": "code",
   "execution_count": 73,
   "metadata": {},
   "outputs": [
    {
     "name": "stderr",
     "output_type": "stream",
     "text": [
      "C:\\Users\\zahra\\Anaconda3\\lib\\site-packages\\ipykernel_launcher.py:7: RuntimeWarning: divide by zero encountered in true_divide\n",
      "  import sys\n"
     ]
    }
   ],
   "source": [
    "j2_1 = (np.ones(100)-g2_1)/(np.ones(100)-f2_1)\n",
    "j2_2 = (np.ones(100)-g2_2)/(np.ones(100)-f2_2)\n",
    "j2_3 = (np.ones(100)-g2_3)/(np.ones(100)-f2_3)\n",
    "j2_4 = (np.ones(100)-g2_4)/(np.ones(100)-f2_4)\n",
    "j2_5 = (np.ones(100)-g2_5)/(np.ones(100)-f2_5)\n",
    "j2_6 = (np.ones(100)-g2_6)/(np.ones(100)-f2_6)\n",
    "j2_7 = (np.ones(100)-g2_7)/(np.ones(100)-f2_7)\n",
    "j2_8 = (np.ones(100)-g2_8)/(np.ones(100)-f2_8)"
   ]
  },
  {
   "cell_type": "code",
   "execution_count": 74,
   "metadata": {},
   "outputs": [],
   "source": [
    "j_mean_2 = np.mean((j2_1,j2_2,j2_3,j2_4,j2_5,j2_6,j2_7,j2_8),axis = 0)\n",
    "j_std_2 = np.std((j2_1,j2_2,j2_3,j2_4,j2_5,j2_6,j2_7,j2_8),axis = 0)"
   ]
  },
  {
   "cell_type": "code",
   "execution_count": 75,
   "metadata": {},
   "outputs": [],
   "source": [
    "bincenters = 0.5*(bins[1:]+bins[:-1])"
   ]
  },
  {
   "cell_type": "code",
   "execution_count": 82,
   "metadata": {},
   "outputs": [
    {
     "data": {
      "text/plain": [
       "array([1.00000000e+00, 9.99427981e-01, 9.95318799e-01, 9.88922935e-01,\n",
       "       9.81293658e-01, 9.73667458e-01, 9.63401238e-01, 9.53174320e-01,\n",
       "       9.39681313e-01, 9.28482211e-01, 9.14869262e-01, 9.00337467e-01,\n",
       "       8.88398397e-01, 8.72393426e-01, 8.59226016e-01, 8.44921006e-01,\n",
       "       8.32166430e-01, 8.16937995e-01, 8.01864053e-01, 7.86674241e-01,\n",
       "       7.71679208e-01, 7.58038892e-01, 7.45437216e-01, 7.32176842e-01,\n",
       "       7.20775736e-01, 7.10180685e-01, 6.95840474e-01, 6.79558033e-01,\n",
       "       6.66649299e-01, 6.56326785e-01, 6.41079456e-01, 6.29376363e-01,\n",
       "       6.12860188e-01, 5.96923813e-01, 5.81977594e-01, 5.73127537e-01,\n",
       "       5.67482026e-01, 5.55888497e-01, 5.43379429e-01, 5.32556829e-01,\n",
       "       5.23320687e-01, 5.10424465e-01, 5.01427423e-01, 4.90770600e-01,\n",
       "       4.84634503e-01, 4.72545064e-01, 4.63277591e-01, 4.57757036e-01,\n",
       "       4.50538244e-01, 4.43075916e-01, 4.31488927e-01, 4.15993540e-01,\n",
       "       4.05673076e-01, 3.97820251e-01, 3.93196183e-01, 3.86928363e-01,\n",
       "       3.72199721e-01, 3.61049148e-01, 3.54960461e-01, 3.48566284e-01,\n",
       "       3.34813271e-01, 3.32434369e-01, 3.29453337e-01, 3.29674786e-01,\n",
       "       3.23096398e-01, 3.15842828e-01, 3.12036005e-01, 3.04241960e-01,\n",
       "       2.91501413e-01, 2.83640652e-01, 2.89642131e-01, 2.75709665e-01,\n",
       "       2.64596571e-01, 2.46494114e-01, 2.41639567e-01, 2.35193973e-01,\n",
       "       2.45339953e-01, 2.60750023e-01, 2.87164690e-01, 2.86816721e-01,\n",
       "       3.51769709e-01, 3.29695805e-01, 3.46878839e-01, 3.44114425e-01,\n",
       "       4.47422253e-01, 3.53829820e-01, 3.50494560e-01, 3.78963281e+10,\n",
       "       3.78963281e+10, 3.78963281e+10,           -inf,           -inf,\n",
       "                 -inf,           -inf,           -inf,           -inf,\n",
       "                  nan,            nan,            nan,            nan])"
      ]
     },
     "execution_count": 82,
     "metadata": {},
     "output_type": "execute_result"
    }
   ],
   "source": [
    "j_mean_0"
   ]
  },
  {
   "cell_type": "code",
   "execution_count": null,
   "metadata": {},
   "outputs": [],
   "source": []
  },
  {
   "cell_type": "code",
   "execution_count": null,
   "metadata": {},
   "outputs": [],
   "source": []
  },
  {
   "cell_type": "code",
   "execution_count": 83,
   "metadata": {},
   "outputs": [
    {
     "data": {
      "text/plain": [
       "array([ 0.1,  0.3,  0.5,  0.7,  0.9,  1.1,  1.3,  1.5,  1.7,  1.9,  2.1,\n",
       "        2.3,  2.5,  2.7,  2.9,  3.1,  3.3,  3.5,  3.7,  3.9,  4.1,  4.3,\n",
       "        4.5,  4.7,  4.9,  5.1,  5.3,  5.5,  5.7,  5.9,  6.1,  6.3,  6.5,\n",
       "        6.7,  6.9,  7.1,  7.3,  7.5,  7.7,  7.9,  8.1,  8.3,  8.5,  8.7,\n",
       "        8.9,  9.1,  9.3,  9.5,  9.7,  9.9, 10.1, 10.3, 10.5, 10.7, 10.9,\n",
       "       11.1, 11.3, 11.5, 11.7, 11.9, 12.1, 12.3, 12.5, 12.7, 12.9, 13.1,\n",
       "       13.3, 13.5, 13.7, 13.9, 14.1, 14.3, 14.5, 14.7, 14.9, 15.1, 15.3,\n",
       "       15.5, 15.7, 15.9, 16.1, 16.3, 16.5, 16.7, 16.9, 17.1, 17.3, 17.5,\n",
       "       17.7, 17.9, 18.1, 18.3, 18.5, 18.7, 18.9, 19.1, 19.3, 19.5, 19.7,\n",
       "       19.9])"
      ]
     },
     "execution_count": 83,
     "metadata": {},
     "output_type": "execute_result"
    }
   ],
   "source": [
    "bincenters"
   ]
  },
  {
   "cell_type": "code",
   "execution_count": null,
   "metadata": {},
   "outputs": [],
   "source": []
  },
  {
   "cell_type": "code",
   "execution_count": null,
   "metadata": {},
   "outputs": [],
   "source": []
  },
  {
   "cell_type": "code",
   "execution_count": 83,
   "metadata": {},
   "outputs": [
    {
     "data": {
      "image/png": "[encoded data removed]",
      "text/plain": [
       "<Figure size 864x576 with 1 Axes>"
      ]
     },
     "metadata": {
      "needs_background": "light"
     },
     "output_type": "display_data"
    }
   ],
   "source": [
    "fig = plt.figure(figsize=(12,8))\n",
    "csfont = {'fontname':'Times New Roman'}\n",
    "params = {'legend.fontsize': 'xx-large',\n",
    "          'font.family':'Times New Roman',\n",
    "         'axes.labelsize': 'x-large',\n",
    "         'axes.titlesize':'x-large',\n",
    "         'xtick.labelsize':'x-large',\n",
    "         'ytick.labelsize':'x-large'}\n",
    "plt.rcParams.update(params)  \n",
    "plt.xticks(fontsize=20)\n",
    "plt.yticks(fontsize=20)\n",
    "\n",
    "\n",
    "\n",
    "ax = fig.add_subplot(111)\n",
    "ax.plot(bincenters, j_mean_0,label='$11.70<log(M/M_\\odot h)<11.75$',color = 'darkviolet')\n",
    "ax.fill_between(bincenters, j_mean_0-j_std_0, j_mean_0+j_std_0,color = 'plum',lw=2)\n",
    "\n",
    "\n",
    "\n",
    "ax.plot(bincenters, j_mean_05,label='$12.00<log(M/M_{\\odot} h)<12.09$',color = 'blue', linestyle='dotted')\n",
    "ax.fill_between(bincenters, j_mean_05-j_std_05, j_mean_05+j_std_05,color = 'lightblue',lw=2)\n",
    "\n",
    "ax.plot(bincenters, j_mean_1,color = 'red',label = '$12.37<log(M/M_{\\odot} h)<12.60$', linestyle='dashed')\n",
    "ax.fill_between(bincenters, j_mean_1-j_std_1, j_mean_1+j_std_1,color = 'pink',lw=2)\n",
    "\n",
    "\n",
    "ax.plot(bincenters,  j_mean_2,color = 'green',label = '$12.78<log(M/M_{\\odot} h)<14.70$', linestyle='-.')\n",
    "ax.fill_between(bincenters, j_mean_2-j_std_2, j_mean_2+j_std_2,color = 'lightgreen',lw=2)\n",
    "\n",
    "\n",
    "#ax.plot(bincenters, j_mean_13_2,color = 'goldenrod',label = '$13.2<log(M_{halo}/M_0)<13.4$')\n",
    "#ax.fill_between(bincenters, j_mean_13_2-j_std_13_2, j_mean_13_2+j_std_13_2,color = 'yellow',lw=2)\n",
    "#plt.xlim(0,12)\n",
    "plt.xlabel('r[Mpc/h]',fontsize=30)\n",
    "plt.ylabel('J Function',fontsize=30)\n",
    "plt.ylim(0,1.1)\n",
    "plt.xlim(0,12)\n",
    "plt.xticks(fontsize=30 ) \n",
    "plt.yticks(fontsize=30 )\n",
    "#plt.xlabel('r(Mpc/h)');\n",
    "#plt.ylabel('J - Factor')\n",
    "#plt.title('Poisson Point Process');\n",
    "plt.grid('on')\n",
    "plt.legend(loc=0,fontsize=20)\n",
    "plt.savefig('jFunction-massranges-same-number.png')"
   ]
  },
  {
   "cell_type": "code",
   "execution_count": 84,
   "metadata": {},
   "outputs": [],
   "source": [
    "v0_1= 1-f0_1\n",
    "v0_2= 1-f0_2\n",
    "v0_3= 1-f0_3\n",
    "v0_4= 1-f0_4\n",
    "v0_5= 1-f0_5\n",
    "v0_6= 1-f0_6\n",
    "v0_7= 1-f0_7\n",
    "v0_8= 1-f0_8\n",
    "\n",
    "\n",
    "v05_1= 1-f05_1\n",
    "v05_2= 1-f05_2\n",
    "v05_3= 1-f05_3\n",
    "v05_4= 1-f05_4\n",
    "v05_5= 1-f05_5\n",
    "v05_6= 1-f05_6\n",
    "v05_7= 1-f05_7\n",
    "v05_8= 1-f05_8\n",
    "\n",
    "v1_1= 1-f1_1\n",
    "v1_2= 1-f1_2\n",
    "v1_3= 1-f1_3\n",
    "v1_4= 1-f1_4\n",
    "v1_5= 1-f1_5\n",
    "v1_6= 1-f1_6\n",
    "v1_7= 1-f1_7\n",
    "v1_8= 1-f1_8\n",
    "\n",
    "v2_1= 1-f2_1\n",
    "v2_2= 1-f2_2\n",
    "v2_3= 1-f2_3\n",
    "v2_4= 1-f2_4\n",
    "v2_5= 1-f2_5\n",
    "v2_6= 1-f2_6\n",
    "v2_7= 1-f2_7\n",
    "v2_8= 1-f2_8"
   ]
  },
  {
   "cell_type": "code",
   "execution_count": 85,
   "metadata": {},
   "outputs": [],
   "source": [
    "v_mean_2 = np.mean((v2_1,v2_2,v2_3,v2_4,v2_5,v2_6,v2_7,v2_8),axis = 0)\n",
    "v_std_2 = np.std((v2_1,v2_2,v2_3,v2_4,v2_5,v2_6,v2_7,v2_8),axis = 0)\n",
    "\n",
    "v_mean_1 = np.mean((v1_1,v1_2,v1_3,v1_4,v1_5,v1_6,v1_7,v1_8),axis = 0)\n",
    "v_std_1 = np.std((v1_1,v1_2,v1_3,v1_4,v1_5,v1_6,v1_7,v1_8),axis = 0)\n",
    "\n",
    "\n",
    "v_mean_05 = np.mean((v05_1,v05_2,v05_3,v05_4,v05_5,v05_6,v05_7,v05_8),axis = 0)\n",
    "v_std_05 = np.std((v05_1,v05_2,v05_3,v05_4,v05_5,v05_6,v05_7,v05_8),axis = 0)\n",
    "\n",
    "\n",
    "v_mean_0 = np.mean((v0_1,v0_2,v0_3,v0_4,v0_5,v0_6,v0_7,v0_8),axis = 0)\n",
    "v_std_0 = np.std((v0_1,v0_2,v0_3,v0_4,v0_5,v0_6,v0_7,v0_8),axis = 0)"
   ]
  },
  {
   "cell_type": "code",
   "execution_count": 88,
   "metadata": {},
   "outputs": [
    {
     "data": {
      "image/png": "[encoded data removed]",
      "text/plain": [
       "<Figure size 864x576 with 1 Axes>"
      ]
     },
     "metadata": {
      "needs_background": "light"
     },
     "output_type": "display_data"
    }
   ],
   "source": [
    "fig = plt.figure(figsize=(12,8))\n",
    "csfont = {'fontname':'Times New Roman'}\n",
    "params = {'legend.fontsize': 'xx-large',\n",
    "          'font.family':'Times New Roman',\n",
    "         'axes.labelsize': 'x-large',\n",
    "         'axes.titlesize':'x-large',\n",
    "         'xtick.labelsize':'x-large',\n",
    "         'ytick.labelsize':'x-large'}\n",
    "plt.rcParams.update(params)  \n",
    "plt.xticks(fontsize=20)\n",
    "plt.yticks(fontsize=20)\n",
    "\n",
    "\n",
    "\n",
    "ax = fig.add_subplot(111)\n",
    "ax.plot(bincenters, v_mean_0,label='$11.70<log(M/M_\\odot h)<11.75$',color = 'darkviolet')\n",
    "ax.fill_between(bincenters, v_mean_0-v_std_0, v_mean_0+v_std_0,color = 'plum',lw=2)\n",
    "\n",
    "\n",
    "\n",
    "ax.plot(bincenters, v_mean_05,label='$12.00<log(M/M_{\\odot} h)<12.09$',color = 'blue', linestyle='dotted')\n",
    "ax.fill_between(bincenters, v_mean_05-v_std_05, v_mean_05+v_std_05,color = 'lightblue',lw=2)\n",
    "\n",
    "ax.plot(bincenters, v_mean_1,color = 'red',label = '$12.37<log(M/M_{\\odot} h)<12.60$', linestyle='dashed')\n",
    "ax.fill_between(bincenters, v_mean_1-v_std_1, v_mean_1+v_std_1,color = 'pink',lw=2)\n",
    "\n",
    "\n",
    "ax.plot(bincenters,  v_mean_2,color = 'green',label = '$12.78<log(M/M_{\\odot} h)<14.70$', linestyle='-.')\n",
    "ax.fill_between(bincenters,v_mean_2-v_std_2, v_mean_2+v_std_2,color = 'lightgreen',lw=2)\n",
    "\n",
    "\n",
    "#ax.plot(bincenters, j_mean_13_2,color = 'goldenrod',label = '$13.2<log(M_{halo}/M_0)<13.4$')\n",
    "#ax.fill_between(bincenters, j_mean_13_2-j_std_13_2, j_mean_13_2+j_std_13_2,color = 'yellow',lw=2)\n",
    "#plt.xlim(0,12)\n",
    "plt.xlabel('r[Mpc/h]',fontsize=30)\n",
    "plt.ylabel('$V_0(r)$',fontsize=30)\n",
    "plt.ylim(0,1.1)\n",
    "plt.xlim(0,12)\n",
    "plt.xticks(fontsize=30 ) \n",
    "plt.yticks(fontsize=30 )\n",
    "#plt.xlabel('r(Mpc/h)');\n",
    "#plt.ylabel('J - Factor')\n",
    "#plt.title('Poisson Point Process');\n",
    "plt.grid('on')\n",
    "plt.legend(loc=0,fontsize=20)\n",
    "plt.savefig('vFunction-massranges-same-number.png')"
   ]
  },
  {
   "cell_type": "code",
   "execution_count": null,
   "metadata": {},
   "outputs": [],
   "source": []
  }
 ],
 "metadata": {
  "kernelspec": {
   "display_name": "Python 3",
   "language": "python",
   "name": "python3"
  },
  "language_info": {
   "codemirror_mode": {
    "name": "ipython",
    "version": 3
   },
   "file_extension": ".py",
   "mimetype": "text/x-python",
   "name": "python",
   "nbconvert_exporter": "python",
   "pygments_lexer": "ipython3",
   "version": "3.7.0"
  }
 },
 "nbformat": 4,
 "nbformat_minor": 2
}
